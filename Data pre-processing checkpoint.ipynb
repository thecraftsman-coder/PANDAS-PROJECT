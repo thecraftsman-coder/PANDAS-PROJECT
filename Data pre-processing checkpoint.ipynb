{
 "cells": [
  {
   "cell_type": "code",
   "execution_count": null,
   "id": "c64f756c-4324-4359-9526-b0879cdb1568",
   "metadata": {},
   "outputs": [],
   "source": [
    "import pandas as pd\n",
    "import numpy as np"
   ]
  },
  {
   "cell_type": "code",
   "execution_count": null,
   "id": "813d6715-6fde-4b0a-8a77-017fff06a193",
   "metadata": {},
   "outputs": [],
   "source": [
    "SBH = pd.read_csv('STEG_BILLING_HISTORY.csv')\n",
    "SBH"
   ]
  },
  {
   "cell_type": "code",
   "execution_count": null,
   "id": "d3cbc659-24c0-4acb-ab62-c2830928bbbf",
   "metadata": {
    "scrolled": true
   },
   "outputs": [],
   "source": [
    "SBH['client_id'].value_counts()"
   ]
  },
  {
   "cell_type": "markdown",
   "id": "c4cc5195-4a2f-4e0e-85e6-342cef5d8276",
   "metadata": {},
   "source": [
    "# 3. Display the general information of the dataset and try to answer the following questions : \n",
    "#### How many rows and columns do we have in this dataset ?\n",
    "#### How many categorical features are present in the dataset ?\n",
    "#### How much memory space does the dataset consume ?\n"
   ]
  },
  {
   "cell_type": "code",
   "execution_count": null,
   "id": "9f4ec92f-f476-407b-8811-56b388e23820",
   "metadata": {},
   "outputs": [],
   "source": [
    "SBH.info()"
   ]
  },
  {
   "cell_type": "code",
   "execution_count": null,
   "id": "2c76d8e6-1e71-4d0c-9e51-4765a611e283",
   "metadata": {},
   "outputs": [],
   "source": [
    "rows = SBH.shape[0]\n",
    "columns = SBH.shape[1]"
   ]
  },
  {
   "cell_type": "code",
   "execution_count": null,
   "id": "9ecce2cb-3443-406c-9fef-b2581cd926b3",
   "metadata": {},
   "outputs": [],
   "source": [
    "print(f\"There are {columns} total columns and {rows} total rows \")"
   ]
  },
  {
   "cell_type": "code",
   "execution_count": null,
   "id": "39007e35-508e-4615-9c43-b715bf374227",
   "metadata": {},
   "outputs": [],
   "source": [
    "categorical_cols = SBH.select_dtypes(include=['object', 'category']).columns\n",
    "\n",
    "print(F\"There are 4 Categorical columns and they are {categorical_cols}:\")"
   ]
  },
  {
   "cell_type": "code",
   "execution_count": null,
   "id": "e87cc9c3-644f-4258-9c73-430da9ece54e",
   "metadata": {},
   "outputs": [],
   "source": [
    "print(\"Memory usage = 546.5+ MB\")"
   ]
  },
  {
   "cell_type": "markdown",
   "id": "aa870eda-39b3-4f3f-a20f-c0fd2da599a4",
   "metadata": {},
   "source": [
    "# 4. Inspect the dataset for potential missing values.\r",
    "# 5. \n",
    "Select your strategy to handle missing values, and tell us why you had made that choice."
   ]
  },
  {
   "cell_type": "code",
   "execution_count": null,
   "id": "254e2850-b949-4eab-ac6b-9431056d6308",
   "metadata": {},
   "outputs": [],
   "source": [
    "SBH.isnull().sum()"
   ]
  },
  {
   "cell_type": "code",
   "execution_count": null,
   "id": "f68331dc-7f60-4c55-81af-ece211920c35",
   "metadata": {},
   "outputs": [],
   "source": [
    "SBH.dropna(subset=['counter_number'], inplace=True)\n",
    "print(\"I will be dropping the NAN values in the counter_number column because the NAN values are 48 and 48 has no substantial impact on the dataset\" )"
   ]
  },
  {
   "cell_type": "code",
   "execution_count": null,
   "id": "3c632232-fa32-42a9-839d-ef041a6a57b9",
   "metadata": {},
   "outputs": [],
   "source": [
    "mean_age = SBH['reading_remarque'].mean()\n",
    "SBH['reading_remarque'].fillna(mean_age, inplace=True)"
   ]
  },
  {
   "cell_type": "markdown",
   "id": "fd7e85e3-34c3-4afd-8bfd-b5b24c32bfaa",
   "metadata": {},
   "source": [
    "# 6. Run a descriptive analysis on numeric features (columns)."
   ]
  },
  {
   "cell_type": "code",
   "execution_count": null,
   "id": "9487d624-9256-4f89-8d41-752ae8c2019d",
   "metadata": {},
   "outputs": [],
   "source": [
    "SBH.describe()"
   ]
  },
  {
   "cell_type": "markdown",
   "id": "1001f270-7edf-4d2a-b9ef-e5cb2aea5b3c",
   "metadata": {},
   "source": [
    "# 7. Select the bills records for the client with an id ='train_Client_0', using 2 methods."
   ]
  },
  {
   "cell_type": "code",
   "execution_count": null,
   "id": "5d1f2534-6b69-423a-a81c-cc47a5387e73",
   "metadata": {},
   "outputs": [],
   "source": [
    "SBH[SBH['client_id'] == 'train_Client_0']"
   ]
  },
  {
   "cell_type": "code",
   "execution_count": null,
   "id": "7386ac2b-4b65-4dc8-82c5-e6b21bf4ed09",
   "metadata": {},
   "outputs": [],
   "source": [
    " SBH.query(\"client_id == 'train_Client_0'\")"
   ]
  },
  {
   "cell_type": "markdown",
   "id": "2c56e047-a0e6-4d91-8792-a6035a6d2ddf",
   "metadata": {},
   "source": [
    "# 8. Transform the 'counter_type' feature to a numeric variable using the encoder of your choice."
   ]
  },
  {
   "cell_type": "code",
   "execution_count": null,
   "id": "9a475fb4-d791-47ee-a04e-cd2767cf8c55",
   "metadata": {
    "scrolled": true
   },
   "outputs": [],
   "source": [
    "SBH['counter_type'].value_counts()"
   ]
  },
  {
   "cell_type": "code",
   "execution_count": null,
   "id": "05f37f7c-b682-4ae4-94ed-ef46af6e40db",
   "metadata": {},
   "outputs": [],
   "source": [
    "from sklearn.preprocessing import LabelEncoder\n",
    "\n",
    "label_encoder = LabelEncoder()\n",
    "\n",
    "SBH['counter_type_encoded'] = label_encoder.fit_transform(SBH['counter_type'])\n",
    "\n",
    "SBH"
   ]
  },
  {
   "cell_type": "markdown",
   "id": "d31234b2-b974-4387-be69-62f95f186a7c",
   "metadata": {},
   "source": [
    "# Delete the 'counter_statue' feature from the Dataframe"
   ]
  },
  {
   "cell_type": "code",
   "execution_count": null,
   "id": "be5070da-093c-445a-943b-68efb4d3b7fd",
   "metadata": {},
   "outputs": [],
   "source": [
    "df.drop(columns=['counter_statue'], inplace=True)"
   ]
  }
 ],
 "metadata": {
  "kernelspec": {
   "display_name": "Python 3 (ipykernel)",
   "language": "python",
   "name": "python3"
  },
  "language_info": {
   "codemirror_mode": {
    "name": "ipython",
    "version": 3
   },
   "file_extension": ".py",
   "mimetype": "text/x-python",
   "name": "python",
   "nbconvert_exporter": "python",
   "pygments_lexer": "ipython3",
   "version": "3.12.4"
  }
 },
 "nbformat": 4,
 "nbformat_minor": 5
}
