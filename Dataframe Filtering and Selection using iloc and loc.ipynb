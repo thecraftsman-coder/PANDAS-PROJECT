{
 "cells": [
  {
   "cell_type": "code",
   "execution_count": null,
   "id": "97818cae-7405-4fc7-9bd1-a00849187d16",
   "metadata": {},
   "outputs": [],
   "source": [
    "import pandas as pd\n",
    "\n",
    "# Step 1: Create the dataframe \"employee_df\"\n",
    "data = {\n",
    "    'Name': ['John', 'Mary', 'Bob', 'Sarah', 'Tom', 'Lisa'],\n",
    "    'Department': ['IT', 'Marketing', 'Sales', 'IT', 'Finance', 'Marketing'],\n",
    "    'Age': [30, 40, 25, 35, 45, 28],\n",
    "    'Gender': ['Male', 'Female', 'Male', 'Female', 'Male', 'Female'],\n",
    "    'Salary': [50000, 60000, 45000, 55000, 70000, 55000],\n",
    "    'Experience': [3, 7, 2, 5, 10, 4]\n",
    "}\n",
    "\n",
    "employee_df = pd.DataFrame(data)\n",
    "\n",
    "# Step 2: Use iloc to select the first 3 rows\n",
    "first_3_rows = employee_df.iloc[:3]\n",
    "\n",
    "# Step 3: Use loc to select all rows where the Department is \"Marketing\"\n",
    "marketing_dept = employee_df.loc[employee_df['Department'] == 'Marketing']\n",
    "\n",
    "# Step 4: Use iloc to select the Age and Gender columns for the first 4 rows\n",
    "age_gender_first_4 = employee_df.iloc[:4, [2, 3]]\n",
    "\n",
    "# Step 5: Use loc to select the Salary and Experience columns where Gender is \"Male\"\n",
    "salary_experience_male = employee_df.loc[employee_df['Gender'] == 'Male', ['Salary', 'Experience']]\n",
    "\n",
    "# Output the results\n",
    "print(\"First 3 rows using iloc:\\n\", first_3_rows)\n",
    "print(\"\\nRows where Department is Marketing using loc:\\n\", marketing_dept)\n",
    "print(\"\\nAge and Gender for the first 4 rows using iloc:\\n\", age_gender_first_4)\n",
    "print(\"\\nSalary and Experience for Male employees using loc:\\n\", salary_experience_male)\n"
   ]
  }
 ],
 "metadata": {
  "kernelspec": {
   "display_name": "Python 3 (ipykernel)",
   "language": "python",
   "name": "python3"
  },
  "language_info": {
   "codemirror_mode": {
    "name": "ipython",
    "version": 3
   },
   "file_extension": ".py",
   "mimetype": "text/x-python",
   "name": "python",
   "nbconvert_exporter": "python",
   "pygments_lexer": "ipython3",
   "version": "3.11.7"
  }
 },
 "nbformat": 4,
 "nbformat_minor": 5
}
